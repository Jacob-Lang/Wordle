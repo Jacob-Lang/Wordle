{
 "cells": [
  {
   "cell_type": "markdown",
   "metadata": {},
   "source": [
    "# Wordle\n",
    "\n",
    "https://www.powerlanguage.co.uk/wordle/\n",
    "\n",
    "We've all played Wordle by now! And we've all agonised (just me?) over the optimal choice of first word. We could choose the first word that pops into our heads, a word with very common letters, a word with lots of vowels... \n",
    "\n",
    "In this notebok I want to find the optimal first word choice for a few different strategies.\n",
    "\n",
    "\n",
    "First of all we'll need some words. I'm actually using the list of all playable words on the Wordle game - obtained from the javascript file that runs the game online. (Thanks to this blog post for this tip https://bert.org/2021/11/24/the-best-starting-word-in-wordle/)"
   ]
  },
  {
   "cell_type": "code",
   "execution_count": 1,
   "metadata": {},
   "outputs": [],
   "source": [
    "import pandas as pd\n",
    "import numpy as np"
   ]
  },
  {
   "cell_type": "code",
   "execution_count": 2,
   "metadata": {},
   "outputs": [],
   "source": [
    "five_letter_words_pd = pd.read_csv(\"wordle_words.csv\")\n",
    "FIVE_LETTER_WORDS = five_letter_words_pd[\"word\"].tolist()\n",
    "num_five_letter_words = len(FIVE_LETTER_WORDS)"
   ]
  },
  {
   "cell_type": "code",
   "execution_count": 3,
   "metadata": {},
   "outputs": [
    {
     "name": "stdout",
     "output_type": "stream",
     "text": [
      "# 5 letter words: 10657\n"
     ]
    },
    {
     "data": {
      "text/html": [
       "<div>\n",
       "<style scoped>\n",
       "    .dataframe tbody tr th:only-of-type {\n",
       "        vertical-align: middle;\n",
       "    }\n",
       "\n",
       "    .dataframe tbody tr th {\n",
       "        vertical-align: top;\n",
       "    }\n",
       "\n",
       "    .dataframe thead th {\n",
       "        text-align: right;\n",
       "    }\n",
       "</style>\n",
       "<table border=\"1\" class=\"dataframe\">\n",
       "  <thead>\n",
       "    <tr style=\"text-align: right;\">\n",
       "      <th></th>\n",
       "      <th>word</th>\n",
       "    </tr>\n",
       "  </thead>\n",
       "  <tbody>\n",
       "    <tr>\n",
       "      <th>0</th>\n",
       "      <td>aahed</td>\n",
       "    </tr>\n",
       "    <tr>\n",
       "      <th>1</th>\n",
       "      <td>aalii</td>\n",
       "    </tr>\n",
       "    <tr>\n",
       "      <th>2</th>\n",
       "      <td>aargh</td>\n",
       "    </tr>\n",
       "    <tr>\n",
       "      <th>3</th>\n",
       "      <td>aarti</td>\n",
       "    </tr>\n",
       "    <tr>\n",
       "      <th>4</th>\n",
       "      <td>abaca</td>\n",
       "    </tr>\n",
       "    <tr>\n",
       "      <th>...</th>\n",
       "      <td>...</td>\n",
       "    </tr>\n",
       "    <tr>\n",
       "      <th>10652</th>\n",
       "      <td>zuzim</td>\n",
       "    </tr>\n",
       "    <tr>\n",
       "      <th>10653</th>\n",
       "      <td>zygal</td>\n",
       "    </tr>\n",
       "    <tr>\n",
       "      <th>10654</th>\n",
       "      <td>zygon</td>\n",
       "    </tr>\n",
       "    <tr>\n",
       "      <th>10655</th>\n",
       "      <td>zymes</td>\n",
       "    </tr>\n",
       "    <tr>\n",
       "      <th>10656</th>\n",
       "      <td>zymic</td>\n",
       "    </tr>\n",
       "  </tbody>\n",
       "</table>\n",
       "<p>10657 rows × 1 columns</p>\n",
       "</div>"
      ],
      "text/plain": [
       "        word\n",
       "0      aahed\n",
       "1      aalii\n",
       "2      aargh\n",
       "3      aarti\n",
       "4      abaca\n",
       "...      ...\n",
       "10652  zuzim\n",
       "10653  zygal\n",
       "10654  zygon\n",
       "10655  zymes\n",
       "10656  zymic\n",
       "\n",
       "[10657 rows x 1 columns]"
      ]
     },
     "execution_count": 3,
     "metadata": {},
     "output_type": "execute_result"
    }
   ],
   "source": [
    "print('# 5 letter words:', num_five_letter_words)\n",
    "five_letter_words_pd"
   ]
  },
  {
   "cell_type": "markdown",
   "metadata": {},
   "source": [
    "## Letter occurences in 5 letter words\n",
    "\n",
    "The first strategy will be to choose a first word that is made up of the most common letters.The hypothesis being that we increase the possibility of collisions with the answer and thus increase the number of orange and green squares we expect to get with our first guess.\n",
    "\n",
    "Inspired by this blog https://www3.nd.edu/~busiforc/handouts/cryptography/letterfrequencies.html we actually want to use the most common letters in the set of all 5 letter words i.e. not the most common letters in all english *text* where the letter *t* is very common due to the prevelance of the word *\"the\"*. \n",
    "\n",
    "Let's work out the frequency of each letter in our 5 letter word set. "
   ]
  },
  {
   "cell_type": "code",
   "execution_count": 4,
   "metadata": {},
   "outputs": [],
   "source": [
    "alphabet = ['a', 'b', 'c', 'd', 'e', 'f', 'g', 'h', 'i', 'j', 'k', 'l', 'm', 'n', 'o', 'p', 'q', 'r', 's', 't', 'u', 'v', 'w', 'x', 'y', 'z']\n",
    "# concatenate all 5 letter words together so we can count occurences of each letter.\n",
    "concatenated_words = ''.join(FIVE_LETTER_WORDS)\n",
    "letter_occurences = [concatenated_words.count(letter) for letter in alphabet]\n",
    "\n",
    "letter_occurences_pd = pd.DataFrame({'letter': alphabet, 'count': letter_occurences})"
   ]
  },
  {
   "cell_type": "code",
   "execution_count": 5,
   "metadata": {},
   "outputs": [
    {
     "data": {
      "text/html": [
       "<div>\n",
       "<style scoped>\n",
       "    .dataframe tbody tr th:only-of-type {\n",
       "        vertical-align: middle;\n",
       "    }\n",
       "\n",
       "    .dataframe tbody tr th {\n",
       "        vertical-align: top;\n",
       "    }\n",
       "\n",
       "    .dataframe thead th {\n",
       "        text-align: right;\n",
       "    }\n",
       "</style>\n",
       "<table border=\"1\" class=\"dataframe\">\n",
       "  <thead>\n",
       "    <tr style=\"text-align: right;\">\n",
       "      <th></th>\n",
       "      <th>letter</th>\n",
       "      <th>count</th>\n",
       "    </tr>\n",
       "  </thead>\n",
       "  <tbody>\n",
       "    <tr>\n",
       "      <th>0</th>\n",
       "      <td>s</td>\n",
       "      <td>5996</td>\n",
       "    </tr>\n",
       "    <tr>\n",
       "      <th>1</th>\n",
       "      <td>e</td>\n",
       "      <td>5429</td>\n",
       "    </tr>\n",
       "    <tr>\n",
       "      <th>2</th>\n",
       "      <td>a</td>\n",
       "      <td>5011</td>\n",
       "    </tr>\n",
       "    <tr>\n",
       "      <th>3</th>\n",
       "      <td>o</td>\n",
       "      <td>3684</td>\n",
       "    </tr>\n",
       "    <tr>\n",
       "      <th>4</th>\n",
       "      <td>r</td>\n",
       "      <td>3259</td>\n",
       "    </tr>\n",
       "    <tr>\n",
       "      <th>5</th>\n",
       "      <td>i</td>\n",
       "      <td>3088</td>\n",
       "    </tr>\n",
       "    <tr>\n",
       "      <th>6</th>\n",
       "      <td>l</td>\n",
       "      <td>2652</td>\n",
       "    </tr>\n",
       "    <tr>\n",
       "      <th>7</th>\n",
       "      <td>t</td>\n",
       "      <td>2566</td>\n",
       "    </tr>\n",
       "    <tr>\n",
       "      <th>8</th>\n",
       "      <td>n</td>\n",
       "      <td>2377</td>\n",
       "    </tr>\n",
       "    <tr>\n",
       "      <th>9</th>\n",
       "      <td>d</td>\n",
       "      <td>2060</td>\n",
       "    </tr>\n",
       "    <tr>\n",
       "      <th>10</th>\n",
       "      <td>u</td>\n",
       "      <td>2044</td>\n",
       "    </tr>\n",
       "    <tr>\n",
       "      <th>11</th>\n",
       "      <td>m</td>\n",
       "      <td>1660</td>\n",
       "    </tr>\n",
       "    <tr>\n",
       "      <th>12</th>\n",
       "      <td>p</td>\n",
       "      <td>1652</td>\n",
       "    </tr>\n",
       "    <tr>\n",
       "      <th>13</th>\n",
       "      <td>y</td>\n",
       "      <td>1649</td>\n",
       "    </tr>\n",
       "    <tr>\n",
       "      <th>14</th>\n",
       "      <td>c</td>\n",
       "      <td>1551</td>\n",
       "    </tr>\n",
       "    <tr>\n",
       "      <th>15</th>\n",
       "      <td>h</td>\n",
       "      <td>1371</td>\n",
       "    </tr>\n",
       "    <tr>\n",
       "      <th>16</th>\n",
       "      <td>b</td>\n",
       "      <td>1346</td>\n",
       "    </tr>\n",
       "    <tr>\n",
       "      <th>17</th>\n",
       "      <td>g</td>\n",
       "      <td>1333</td>\n",
       "    </tr>\n",
       "    <tr>\n",
       "      <th>18</th>\n",
       "      <td>k</td>\n",
       "      <td>1295</td>\n",
       "    </tr>\n",
       "    <tr>\n",
       "      <th>19</th>\n",
       "      <td>f</td>\n",
       "      <td>885</td>\n",
       "    </tr>\n",
       "    <tr>\n",
       "      <th>20</th>\n",
       "      <td>w</td>\n",
       "      <td>844</td>\n",
       "    </tr>\n",
       "    <tr>\n",
       "      <th>21</th>\n",
       "      <td>v</td>\n",
       "      <td>541</td>\n",
       "    </tr>\n",
       "    <tr>\n",
       "      <th>22</th>\n",
       "      <td>z</td>\n",
       "      <td>394</td>\n",
       "    </tr>\n",
       "    <tr>\n",
       "      <th>23</th>\n",
       "      <td>j</td>\n",
       "      <td>264</td>\n",
       "    </tr>\n",
       "    <tr>\n",
       "      <th>24</th>\n",
       "      <td>x</td>\n",
       "      <td>251</td>\n",
       "    </tr>\n",
       "    <tr>\n",
       "      <th>25</th>\n",
       "      <td>q</td>\n",
       "      <td>83</td>\n",
       "    </tr>\n",
       "  </tbody>\n",
       "</table>\n",
       "</div>"
      ],
      "text/plain": [
       "   letter  count\n",
       "0       s   5996\n",
       "1       e   5429\n",
       "2       a   5011\n",
       "3       o   3684\n",
       "4       r   3259\n",
       "5       i   3088\n",
       "6       l   2652\n",
       "7       t   2566\n",
       "8       n   2377\n",
       "9       d   2060\n",
       "10      u   2044\n",
       "11      m   1660\n",
       "12      p   1652\n",
       "13      y   1649\n",
       "14      c   1551\n",
       "15      h   1371\n",
       "16      b   1346\n",
       "17      g   1333\n",
       "18      k   1295\n",
       "19      f    885\n",
       "20      w    844\n",
       "21      v    541\n",
       "22      z    394\n",
       "23      j    264\n",
       "24      x    251\n",
       "25      q     83"
      ]
     },
     "execution_count": 5,
     "metadata": {},
     "output_type": "execute_result"
    }
   ],
   "source": [
    "letter_occurences_pd.sort_values(by=\"count\", ascending=False, ignore_index=True)"
   ]
  },
  {
   "cell_type": "markdown",
   "metadata": {},
   "source": [
    "The 5 most common letters in this set of 5 letter english words in *s,e,a,o,r*. Using the first anagram solver I found on the web we find the optimal word under this strategy: **AROSE**."
   ]
  },
  {
   "cell_type": "markdown",
   "metadata": {},
   "source": [
    "## Expected number of green squares\n",
    "\n",
    "The next strategy will be to maximise the number of green squares we get with our first guess. After all the aim of the game is to get all 5 green squares. \n",
    "\n",
    "For a given guess word we can loop over all possible answer words and calculate how many green squares we would have got in that case. We'd like to choose the guess word with the highest average number of green squares (when we average of all possible answer words)."
   ]
  },
  {
   "cell_type": "code",
   "execution_count": 6,
   "metadata": {},
   "outputs": [],
   "source": [
    "def expected_number_of_greens(guess_word):\n",
    "    \"\"\"The expected number of green squares for a given word - if the unknown word is chosen uniformly from all five letter words.\"\"\"\n",
    "\n",
    "    # size of overlap with eery other word\n",
    "    overlaps = []\n",
    "\n",
    "    # loop over all 5 letter words\n",
    "    for answer_word in FIVE_LETTER_WORDS:\n",
    "\n",
    "        count = 0\n",
    "        # for each position check if guess_word matches word - i.e. if there would be a green square\n",
    "        for letter_position in range(5):\n",
    "            if guess_word[letter_position] == answer_word[letter_position]:\n",
    "                count = count + 1\n",
    "\n",
    "        # append total number of green squares to overlaps list\n",
    "        overlaps.append(count)\n",
    "\n",
    "    # return average overlap size over all 5 letter words. \n",
    "    mean_green_count = np.mean(overlaps)\n",
    "\n",
    "    return mean_green_count\n",
    "\n"
   ]
  },
  {
   "cell_type": "code",
   "execution_count": 7,
   "metadata": {},
   "outputs": [
    {
     "name": "stdout",
     "output_type": "stream",
     "text": [
      "CPU times: total: 1min 37s\n",
      "Wall time: 1min 38s\n"
     ]
    },
    {
     "data": {
      "text/html": [
       "<div>\n",
       "<style scoped>\n",
       "    .dataframe tbody tr th:only-of-type {\n",
       "        vertical-align: middle;\n",
       "    }\n",
       "\n",
       "    .dataframe tbody tr th {\n",
       "        vertical-align: top;\n",
       "    }\n",
       "\n",
       "    .dataframe thead th {\n",
       "        text-align: right;\n",
       "    }\n",
       "</style>\n",
       "<table border=\"1\" class=\"dataframe\">\n",
       "  <thead>\n",
       "    <tr style=\"text-align: right;\">\n",
       "      <th></th>\n",
       "      <th>word</th>\n",
       "      <th>expected_number_of_green_squares</th>\n",
       "    </tr>\n",
       "  </thead>\n",
       "  <tbody>\n",
       "    <tr>\n",
       "      <th>0</th>\n",
       "      <td>sores</td>\n",
       "      <td>0.936661</td>\n",
       "    </tr>\n",
       "    <tr>\n",
       "      <th>1</th>\n",
       "      <td>sanes</td>\n",
       "      <td>0.930281</td>\n",
       "    </tr>\n",
       "    <tr>\n",
       "      <th>2</th>\n",
       "      <td>sales</td>\n",
       "      <td>0.921929</td>\n",
       "    </tr>\n",
       "    <tr>\n",
       "      <th>3</th>\n",
       "      <td>sones</td>\n",
       "      <td>0.916956</td>\n",
       "    </tr>\n",
       "    <tr>\n",
       "      <th>4</th>\n",
       "      <td>soles</td>\n",
       "      <td>0.908605</td>\n",
       "    </tr>\n",
       "    <tr>\n",
       "      <th>...</th>\n",
       "      <td>...</td>\n",
       "      <td>...</td>\n",
       "    </tr>\n",
       "    <tr>\n",
       "      <th>10652</th>\n",
       "      <td>oxbow</td>\n",
       "      <td>0.108379</td>\n",
       "    </tr>\n",
       "    <tr>\n",
       "      <th>10653</th>\n",
       "      <td>undug</td>\n",
       "      <td>0.107910</td>\n",
       "    </tr>\n",
       "    <tr>\n",
       "      <th>10654</th>\n",
       "      <td>ewhow</td>\n",
       "      <td>0.100779</td>\n",
       "    </tr>\n",
       "    <tr>\n",
       "      <th>10655</th>\n",
       "      <td>ethyl</td>\n",
       "      <td>0.087173</td>\n",
       "    </tr>\n",
       "    <tr>\n",
       "      <th>10656</th>\n",
       "      <td>enzym</td>\n",
       "      <td>0.081167</td>\n",
       "    </tr>\n",
       "  </tbody>\n",
       "</table>\n",
       "<p>10657 rows × 2 columns</p>\n",
       "</div>"
      ],
      "text/plain": [
       "        word  expected_number_of_green_squares\n",
       "0      sores                          0.936661\n",
       "1      sanes                          0.930281\n",
       "2      sales                          0.921929\n",
       "3      sones                          0.916956\n",
       "4      soles                          0.908605\n",
       "...      ...                               ...\n",
       "10652  oxbow                          0.108379\n",
       "10653  undug                          0.107910\n",
       "10654  ewhow                          0.100779\n",
       "10655  ethyl                          0.087173\n",
       "10656  enzym                          0.081167\n",
       "\n",
       "[10657 rows x 2 columns]"
      ]
     },
     "execution_count": 7,
     "metadata": {},
     "output_type": "execute_result"
    }
   ],
   "source": [
    "%%time\n",
    "# calculate for every possible guess word and sort by expected number of green squares\n",
    "five_letter_words_pd[\"expected_number_of_green_squares\"] = five_letter_words_pd[\"word\"].apply(expected_number_of_greens)\n",
    "five_letter_words_pd.sort_values(by=\"expected_number_of_green_squares\", ascending=False, ignore_index=True)"
   ]
  },
  {
   "cell_type": "markdown",
   "metadata": {},
   "source": [
    "Under this strategy the optimal word choice is **SORES** where we could expect to get a green square nearly every time (on average)."
   ]
  },
  {
   "cell_type": "markdown",
   "metadata": {},
   "source": [
    "## Expected number of words ruled out\n",
    "\n",
    "Actually maybe we want to choose a word that will rule out the most words - forgetting about green and orange squares for a second the aim of the game is use the information we have to whittle down the five-letter words until there are few enough to guess or there is only one possible word left. \n",
    "\n",
    "Both green AND orange squares help us to rule out words so we can use all the information available to us. "
   ]
  },
  {
   "cell_type": "code",
   "execution_count": 8,
   "metadata": {},
   "outputs": [],
   "source": [
    "def guess_and_answer_rules_out_third_word(guess_word, answer_word, third_word):\n",
    "    # \"\"\"Checks if a for a given guess_word and a given answer_word a third_word will be ruled out because of the information we obtain through green and orange squares.\"\"\"\n",
    "    # check if each position in guess_word is green or orange\n",
    "    for letter_pos in range(5):\n",
    "        letter = guess_word[letter_pos]\n",
    "        if letter == answer_word[letter_pos]:\n",
    "            # this square is green so check if this rules out third word\n",
    "            # if third_word doesnt have correct letter at that position it is ruled out\n",
    "            if third_word[letter_pos] != letter:\n",
    "                return True\n",
    "        elif letter in answer_word:\n",
    "            # this square is orange so check if this rules out third word\n",
    "            # if third_word doesnt contain this letter then it is ruled out\n",
    "            if letter not in third_word:\n",
    "                return True\n",
    "            # if third_word does have this letter but at that same position then it is ruled out \n",
    "            # orange squares indicate that letter must be at a different position\n",
    "            if third_word[letter_pos] == letter:\n",
    "                return True\n",
    "    \n",
    "    # if we get this far then the third_word is still a valid answer\n",
    "    return False"
   ]
  },
  {
   "cell_type": "code",
   "execution_count": 9,
   "metadata": {},
   "outputs": [
    {
     "data": {
      "text/plain": [
       "False"
      ]
     },
     "execution_count": 9,
     "metadata": {},
     "output_type": "execute_result"
    }
   ],
   "source": [
    "# e.g. if \n",
    "guess_word = \"whisk\"\n",
    "# and\n",
    "answer_word = \"large\"\n",
    "# then we we can check if\n",
    "third_word = \"large\"\n",
    "# is ruled out by the green and orange squares we would receive after making our guess\n",
    "\n",
    "guess_and_answer_rules_out_third_word(guess_word, answer_word, third_word)"
   ]
  },
  {
   "cell_type": "code",
   "execution_count": 10,
   "metadata": {},
   "outputs": [],
   "source": [
    "def average_number_of_words_ruled_out(guess_word):\n",
    "    \"\"\"The expected number of words you will rule out - if the unknown word is chosen uniformly from all five letter words.\"\"\"\n",
    "\n",
    "    # size of overlap with eery other word\n",
    "    numbers_ruled_out = []\n",
    "\n",
    "    # loop over all possible answers\n",
    "    for answer_word in FIVE_LETTER_WORDS:\n",
    "\n",
    "        count = 0\n",
    "        for third_word in FIVE_LETTER_WORDS:\n",
    "            if guess_and_answer_rules_out_third_word(guess_word, answer_word, third_word):\n",
    "                count = count + 1\n",
    "\n",
    "        # append total number of green squares to overlaps list\n",
    "        numbers_ruled_out.append(count)\n",
    "\n",
    "    # return average overlap size over all 5 letter words. \n",
    "    return np.mean(numbers_ruled_out)\n",
    "\n"
   ]
  },
  {
   "cell_type": "code",
   "execution_count": 11,
   "metadata": {},
   "outputs": [
    {
     "name": "stdout",
     "output_type": "stream",
     "text": [
      "AROSE rules out 8957.229426667918 words.\n",
      "This would leave 1699.7705733320818 possible words remaining.\n"
     ]
    }
   ],
   "source": [
    "arose_score = average_number_of_words_ruled_out('arose')\n",
    "print('AROSE rules out', arose_score, 'words.')\n",
    "print('This would leave', num_five_letter_words - arose_score, 'possible words remaining.')"
   ]
  },
  {
   "cell_type": "code",
   "execution_count": 12,
   "metadata": {},
   "outputs": [
    {
     "name": "stdout",
     "output_type": "stream",
     "text": [
      "SORES rules out 8499.148822370273 words.\n",
      "This would leave 2157.8511776297273 possible words remaining.\n"
     ]
    }
   ],
   "source": [
    "sores_score = average_number_of_words_ruled_out('sores')\n",
    "print('SORES rules out', sores_score, 'words.')\n",
    "print('This would leave', num_five_letter_words - sores_score, 'possible words remaining.')"
   ]
  },
  {
   "cell_type": "markdown",
   "metadata": {},
   "source": [
    "By this reckoning AROSE is actually the more optimal word over SORES. The next step would be to calculate this score for all the 10K possible first words however a quick back-of-the-envelope calculation suggests this would take 10 full days on my computer...\n",
    "\n",
    "Go for **AROSE** :) "
   ]
  }
 ],
 "metadata": {
  "interpreter": {
   "hash": "c16587ba05df21cc6a1329e7c9072a2fd47a67ba1716b2cae736650674dbbb7e"
  },
  "kernelspec": {
   "display_name": "Python (pers_opt_search)",
   "language": "python",
   "name": "python3"
  },
  "language_info": {
   "codemirror_mode": {
    "name": "ipython",
    "version": 3
   },
   "file_extension": ".py",
   "mimetype": "text/x-python",
   "name": "python",
   "nbconvert_exporter": "python",
   "pygments_lexer": "ipython3",
   "version": "3.10.2"
  }
 },
 "nbformat": 4,
 "nbformat_minor": 2
}
